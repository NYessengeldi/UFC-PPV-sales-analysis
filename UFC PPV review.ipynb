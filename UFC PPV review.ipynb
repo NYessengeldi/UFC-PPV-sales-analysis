{
 "cells": [
  {
   "cell_type": "markdown",
   "metadata": {},
   "source": [
    "# Analysis of UFC PPV sales"
   ]
  },
  {
   "cell_type": "markdown",
   "metadata": {},
   "source": [
    "### Content\n",
    "+ Introduction: UFC and PPV\n",
    "+ Data description and objectives\n",
    "+ Data acquisiton, manipulation and validation\n",
    "+ Data analysis and visualization \n",
    "+ Conclusion"
   ]
  },
  {
   "cell_type": "markdown",
   "metadata": {},
   "source": [
    "# 1. Introduction: UFC and PPV"
   ]
  },
  {
   "cell_type": "markdown",
   "metadata": {},
   "source": [
    "Every fighter has a base salary they receive for making weight and fighting. The base amount depends on several factors. Each UFC fighter is considered an independent contractor and they’re free to negotiate with the UFC on the base pay. Usually, the more popular the fighter, the higher it is. And one of the main sources of income for the UFC and fighters is the PPV.\n",
    "\n",
    "Pay-per-view (PPV) system - pay and see - rules boxing and martial arts. It began with a test in Chicago in the middle of the 20th century, developed thanks to Muhammad Ali, and now brings fighters more than their official fees.\n",
    "\n",
    "For example, when McGregor lost to Khabib Nurmagomedov, he had a base salary of 3,000,000\\\\$ as well as 40,000\\\\$ from the Reebok sponsorship. His PPV points, however, allowed him to make almost 50,000,000$ from the fight. \n",
    "\n",
    "Floyd Mayweather holds the absolute PPV record. In 2015, he dealt with Manny Pacquiao, 4.6 million broadcasts were sold for the fight, the income of which is $ 437 million. In the UFC for a long time, the best result was 1.65 million sales: the rematch of Conor and Nate Diaz (2016), but on October 7, 2018, the record fell, thanks to the efforts of the same Conor, and this time - Khabib. 2.4 million PPV."
   ]
  },
  {
   "cell_type": "markdown",
   "metadata": {},
   "source": [
    "Sources: \n",
    "(https://themmaguru.com/how-much-money-do-mma-fighters-make/)       (https://www.sports.ru/tribuna/blogs/mmardoboi/2556712.html)"
   ]
  },
  {
   "cell_type": "markdown",
   "metadata": {},
   "source": [
    "\n"
   ]
  },
  {
   "cell_type": "markdown",
   "metadata": {},
   "source": [
    "## 2. Data description and objectives"
   ]
  },
  {
   "cell_type": "markdown",
   "metadata": {},
   "source": [
    "Our dataset contains list of every UFC PPV event until 2017(219 events), because it is the most recent and available dataset on [kaggle](https://www.kaggle.com/). Below is data that we will be scraped and used for our analysis:\n",
    "+ Year \n",
    "+ Month\n",
    "+ Day\n",
    "+ UFC_Number - event number\n",
    "+ Opponent1 - main event first fighter\n",
    "+ Opponent2 - main event second fighter\n",
    "+ PPV - PPV sales\n",
    "\n",
    "## 2.1 Research questions:\n",
    "1. Are UFC PPV sales growth?\n",
    "2. In which month of year do PPV sales show the best results?\n",
    "3. Who are the most selling fighters?\n",
    "4. Analyze average PPV sales in one year.\n",
    "5. How Conor McGregor influenced on PPV sales?\n"
   ]
  },
  {
   "cell_type": "markdown",
   "metadata": {},
   "source": [
    "\n"
   ]
  },
  {
   "cell_type": "markdown",
   "metadata": {},
   "source": [
    "## 3. Data Analysis\n"
   ]
  },
  {
   "cell_type": "code",
   "execution_count": 13,
   "metadata": {},
   "outputs": [],
   "source": [
    "import time\n",
    "import numpy as np\n",
    "import pandas as pd\n",
    "import matplotlib.pyplot as plt\n",
    "import seaborn as sns"
   ]
  },
  {
   "cell_type": "code",
   "execution_count": 14,
   "metadata": {},
   "outputs": [
    {
     "data": {
      "text/html": [
       "<div>\n",
       "<style scoped>\n",
       "    .dataframe tbody tr th:only-of-type {\n",
       "        vertical-align: middle;\n",
       "    }\n",
       "\n",
       "    .dataframe tbody tr th {\n",
       "        vertical-align: top;\n",
       "    }\n",
       "\n",
       "    .dataframe thead th {\n",
       "        text-align: right;\n",
       "    }\n",
       "</style>\n",
       "<table border=\"1\" class=\"dataframe\">\n",
       "  <thead>\n",
       "    <tr style=\"text-align: right;\">\n",
       "      <th></th>\n",
       "      <th>Year</th>\n",
       "      <th>Month</th>\n",
       "      <th>Day</th>\n",
       "      <th>UFC_Number</th>\n",
       "      <th>Opponent1</th>\n",
       "      <th>Opponent2</th>\n",
       "      <th>PPV</th>\n",
       "    </tr>\n",
       "  </thead>\n",
       "  <tbody>\n",
       "    <tr>\n",
       "      <th>0</th>\n",
       "      <td>2001</td>\n",
       "      <td>9</td>\n",
       "      <td>28</td>\n",
       "      <td>33</td>\n",
       "      <td>Ortiz</td>\n",
       "      <td>Matyushenko</td>\n",
       "      <td>75000</td>\n",
       "    </tr>\n",
       "    <tr>\n",
       "      <th>1</th>\n",
       "      <td>2001</td>\n",
       "      <td>11</td>\n",
       "      <td>2</td>\n",
       "      <td>34</td>\n",
       "      <td>Couture</td>\n",
       "      <td>Rizzo</td>\n",
       "      <td>65000</td>\n",
       "    </tr>\n",
       "    <tr>\n",
       "      <th>2</th>\n",
       "      <td>2002</td>\n",
       "      <td>1</td>\n",
       "      <td>11</td>\n",
       "      <td>35</td>\n",
       "      <td>Pulver</td>\n",
       "      <td>Penn</td>\n",
       "      <td>35000</td>\n",
       "    </tr>\n",
       "    <tr>\n",
       "      <th>3</th>\n",
       "      <td>2002</td>\n",
       "      <td>3</td>\n",
       "      <td>22</td>\n",
       "      <td>36</td>\n",
       "      <td>Couture</td>\n",
       "      <td>Barnett</td>\n",
       "      <td>55000</td>\n",
       "    </tr>\n",
       "    <tr>\n",
       "      <th>4</th>\n",
       "      <td>2002</td>\n",
       "      <td>5</td>\n",
       "      <td>10</td>\n",
       "      <td>37</td>\n",
       "      <td>Lindland</td>\n",
       "      <td>Bustamante</td>\n",
       "      <td>50000</td>\n",
       "    </tr>\n",
       "    <tr>\n",
       "      <th>...</th>\n",
       "      <td>...</td>\n",
       "      <td>...</td>\n",
       "      <td>...</td>\n",
       "      <td>...</td>\n",
       "      <td>...</td>\n",
       "      <td>...</td>\n",
       "      <td>...</td>\n",
       "    </tr>\n",
       "    <tr>\n",
       "      <th>172</th>\n",
       "      <td>2017</td>\n",
       "      <td>9</td>\n",
       "      <td>9</td>\n",
       "      <td>215</td>\n",
       "      <td>Nunes</td>\n",
       "      <td>Shevchenko</td>\n",
       "      <td>100000</td>\n",
       "    </tr>\n",
       "    <tr>\n",
       "      <th>173</th>\n",
       "      <td>2017</td>\n",
       "      <td>10</td>\n",
       "      <td>7</td>\n",
       "      <td>216</td>\n",
       "      <td>Ferguson</td>\n",
       "      <td>Lee</td>\n",
       "      <td>200000</td>\n",
       "    </tr>\n",
       "    <tr>\n",
       "      <th>174</th>\n",
       "      <td>2017</td>\n",
       "      <td>11</td>\n",
       "      <td>4</td>\n",
       "      <td>217</td>\n",
       "      <td>Bisping</td>\n",
       "      <td>St. Pierre</td>\n",
       "      <td>875000</td>\n",
       "    </tr>\n",
       "    <tr>\n",
       "      <th>175</th>\n",
       "      <td>2017</td>\n",
       "      <td>12</td>\n",
       "      <td>2</td>\n",
       "      <td>218</td>\n",
       "      <td>Holloway</td>\n",
       "      <td>Aldo</td>\n",
       "      <td>230000</td>\n",
       "    </tr>\n",
       "    <tr>\n",
       "      <th>176</th>\n",
       "      <td>2017</td>\n",
       "      <td>12</td>\n",
       "      <td>30</td>\n",
       "      <td>219</td>\n",
       "      <td>Cyborg</td>\n",
       "      <td>Holm</td>\n",
       "      <td>380000</td>\n",
       "    </tr>\n",
       "  </tbody>\n",
       "</table>\n",
       "<p>177 rows × 7 columns</p>\n",
       "</div>"
      ],
      "text/plain": [
       "     Year  Month  Day  UFC_Number Opponent1    Opponent2     PPV\n",
       "0    2001      9   28          33     Ortiz  Matyushenko   75000\n",
       "1    2001     11    2          34   Couture        Rizzo   65000\n",
       "2    2002      1   11          35    Pulver         Penn   35000\n",
       "3    2002      3   22          36   Couture      Barnett   55000\n",
       "4    2002      5   10          37  Lindland   Bustamante   50000\n",
       "..    ...    ...  ...         ...       ...          ...     ...\n",
       "172  2017      9    9         215     Nunes   Shevchenko  100000\n",
       "173  2017     10    7         216  Ferguson          Lee  200000\n",
       "174  2017     11    4         217   Bisping   St. Pierre  875000\n",
       "175  2017     12    2         218  Holloway         Aldo  230000\n",
       "176  2017     12   30         219    Cyborg         Holm  380000\n",
       "\n",
       "[177 rows x 7 columns]"
      ]
     },
     "execution_count": 14,
     "metadata": {},
     "output_type": "execute_result"
    }
   ],
   "source": [
    "df = pd.read_csv('ufc_ppv_buys.csv')\n",
    "df"
   ]
  },
  {
   "cell_type": "code",
   "execution_count": 15,
   "metadata": {},
   "outputs": [
    {
     "name": "stdout",
     "output_type": "stream",
     "text": [
      "<class 'pandas.core.frame.DataFrame'>\n",
      "RangeIndex: 177 entries, 0 to 176\n",
      "Data columns (total 7 columns):\n",
      " #   Column      Non-Null Count  Dtype \n",
      "---  ------      --------------  ----- \n",
      " 0   Year        177 non-null    int64 \n",
      " 1   Month       177 non-null    int64 \n",
      " 2   Day         177 non-null    int64 \n",
      " 3   UFC_Number  177 non-null    int64 \n",
      " 4   Opponent1   177 non-null    object\n",
      " 5   Opponent2   177 non-null    object\n",
      " 6   PPV         177 non-null    int64 \n",
      "dtypes: int64(5), object(2)\n",
      "memory usage: 9.8+ KB\n"
     ]
    }
   ],
   "source": [
    "df.info()"
   ]
  },
  {
   "cell_type": "markdown",
   "metadata": {},
   "source": [
    "### 3.1 PPV sales"
   ]
  },
  {
   "cell_type": "code",
   "execution_count": 16,
   "metadata": {},
   "outputs": [
    {
     "data": {
      "text/plain": [
       "Text(0.5, 1.0, 'Average PPV sales for each year')"
      ]
     },
     "execution_count": 16,
     "metadata": {},
     "output_type": "execute_result"
    },
    {
     "data": {
      "image/png": "[encoded data removed]",
      "text/plain": [
       "<Figure size 1296x360 with 1 Axes>"
      ]
     },
     "metadata": {
      "needs_background": "light"
     },
     "output_type": "display_data"
    }
   ],
   "source": [
    "result = df['PPV'].groupby(df['Year']).mean() #count mean for every year\n",
    "plt.figure(figsize = (18, 5))\n",
    "result['PPV_mean'] = df['PPV'].groupby(df['Year']).mean().plot(kind = 'bar')\n",
    "plt.ylabel('PPV sales')\n",
    "plt.title('Average PPV sales for each year')"
   ]
  },
  {
   "cell_type": "markdown",
   "metadata": {},
   "source": [
    "In the diagram, we can see that PPV sales have grown significantly after 2005.\n",
    "\n",
    "However, starting from 2006 to 2017 there was no any pattern, the results either fell or rose and we can not clearly say that UFC PPV sales are growing up or down.\n",
    "The most noticable thing in this period is that the in 2014, sales showed markedly low rates compared to neighboring years "
   ]
  },
  {
   "cell_type": "markdown",
   "metadata": {},
   "source": [
    "### 3.2 Average sales on each month\n"
   ]
  },
  {
   "cell_type": "code",
   "execution_count": 17,
   "metadata": {},
   "outputs": [
    {
     "data": {
      "text/plain": [
       "Text(0.5, 1.0, 'Number of PPV events for each month')"
      ]
     },
     "execution_count": 17,
     "metadata": {},
     "output_type": "execute_result"
    },
    {
     "data": {
      "image/png": "[encoded data removed]",
      "text/plain": [
       "<Figure size 1296x360 with 1 Axes>"
      ]
     },
     "metadata": {
      "needs_background": "light"
     },
     "output_type": "display_data"
    },
    {
     "data": {
      "image/png": "[encoded data removed]",
      "text/plain": [
       "<Figure size 1296x360 with 1 Axes>"
      ]
     },
     "metadata": {
      "needs_background": "light"
     },
     "output_type": "display_data"
    }
   ],
   "source": [
    "result = df['PPV'].groupby(df['Month']).mean() #count mean for every month\n",
    "plt.figure(figsize = (18, 5))\n",
    "result['PPV_mean'] = df['PPV'].groupby(df['Month']).mean().plot(kind = 'bar')\n",
    "plt.ylabel('PPV sales')\n",
    "plt.title('Average PPV sales for each month')\n",
    "\n",
    "result1 = df['PPV'].groupby(df['Month']).count() #count the number of PPV events for every month\n",
    "plt.figure(figsize = (18, 5))\n",
    "result1['PPV_mean'] = df['PPV'].groupby(df['Month']).count().plot(kind = 'bar')\n",
    "plt.ylabel('Number of PPV events')\n",
    "plt.title('Number of PPV events for each month')"
   ]
  },
  {
   "cell_type": "markdown",
   "metadata": {},
   "source": [
    "The first graph shows us, that the most beneficial months for organizing fights in the UFS are 12-th and 7-th months, that is December and July. And the worst month for orginizing fights is June.\n",
    "\n",
    "Also it is noticable that the UFC organizes a lot of fights in February, despite the fact that February is far from the most selling month.  "
   ]
  },
  {
   "cell_type": "markdown",
   "metadata": {},
   "source": [
    "### 3.3 Who are the most selling fighters "
   ]
  },
  {
   "cell_type": "code",
   "execution_count": 18,
   "metadata": {},
   "outputs": [],
   "source": [
    "#plt.figure(figsize = (18, 5))\n",
    "#result = df['PPV'].groupby(df['Opponent1']).mean().to_frame()\n",
    "#sorted_result = result.sort_values('Opponent1', ascending = False)\n",
    "#result.size()"
   ]
  },
  {
   "cell_type": "code",
   "execution_count": null,
   "metadata": {},
   "outputs": [],
   "source": []
  },
  {
   "cell_type": "code",
   "execution_count": null,
   "metadata": {},
   "outputs": [],
   "source": []
  },
  {
   "cell_type": "code",
   "execution_count": null,
   "metadata": {},
   "outputs": [],
   "source": []
  },
  {
   "cell_type": "code",
   "execution_count": null,
   "metadata": {},
   "outputs": [],
   "source": []
  },
  {
   "cell_type": "code",
   "execution_count": null,
   "metadata": {},
   "outputs": [],
   "source": []
  }
 ],
 "metadata": {
  "kernelspec": {
   "display_name": "Python 3",
   "language": "python",
   "name": "python3"
  },
  "language_info": {
   "codemirror_mode": {
    "name": "ipython",
    "version": 3
   },
   "file_extension": ".py",
   "mimetype": "text/x-python",
   "name": "python",
   "nbconvert_exporter": "python",
   "pygments_lexer": "ipython3",
   "version": "3.8.3"
  }
 },
 "nbformat": 4,
 "nbformat_minor": 4
}
